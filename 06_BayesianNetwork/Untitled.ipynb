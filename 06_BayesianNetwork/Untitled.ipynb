{
 "cells": [
  {
   "cell_type": "code",
   "execution_count": 2,
   "id": "b7c33937",
   "metadata": {},
   "outputs": [
    {
     "name": "stdout",
     "output_type": "stream",
     "text": [
      "Sample instances from the dataset are given below\n",
      "   age  sex  cp  trestbps  chol  fbs  restecg  thalach  exang  oldpeak  slope  \\\n",
      "0   63    1   1       145   233    1        2      150      0      2.3      3   \n",
      "1   67    1   4       160   286    0        2      108      1      1.5      2   \n",
      "2   67    1   4       120   229    0        2      129      1      2.6      2   \n",
      "3   37    1   3       130   250    0        0      187      0      3.5      3   \n",
      "4   41    0   2       130   204    0        2      172      0      1.4      1   \n",
      "\n",
      "   ca  thal  heartDisease  \n",
      "0   0     6             0  \n",
      "1   3     3             2  \n",
      "2   2     7             1  \n",
      "3   0     3             0  \n",
      "4   0     3             0  \n",
      "\n",
      " Attributes and datatypes\n",
      "age               int64\n",
      "sex               int64\n",
      "cp                int64\n",
      "trestbps          int64\n",
      "chol              int64\n",
      "fbs               int64\n",
      "restecg           int64\n",
      "thalach           int64\n",
      "exang             int64\n",
      "oldpeak         float64\n",
      "slope             int64\n",
      "ca                int64\n",
      "thal              int64\n",
      "heartDisease      int64\n",
      "dtype: object\n",
      "BayesianModel with 7 nodes and 6 edges\n",
      "\n",
      " Learning CPD using Maximum likelihood estimators\n",
      "\n",
      " Inferencing with Bayesian Network:\n",
      "\n",
      " 1.Probability of heartDisease given evidence= restecg :1\n"
     ]
    },
    {
     "name": "stderr",
     "output_type": "stream",
     "text": [
      "/opt/homebrew/lib/python3.9/site-packages/pgmpy/models/BayesianModel.py:8: FutureWarning: BayesianModel has been renamed to BayesianNetwork. Please use BayesianNetwork class, BayesianModel will be removed in future.\n",
      "  warnings.warn(\n"
     ]
    },
    {
     "data": {
      "application/vnd.jupyter.widget-view+json": {
       "model_id": "b7bcd7047de247a2bece255657241a07",
       "version_major": 2,
       "version_minor": 0
      },
      "text/plain": [
       "  0%|          | 0/4 [00:00<?, ?it/s]"
      ]
     },
     "metadata": {},
     "output_type": "display_data"
    },
    {
     "data": {
      "application/vnd.jupyter.widget-view+json": {
       "model_id": "fe73895ef85f42f1bfeaeb1bfb69cc8d",
       "version_major": 2,
       "version_minor": 0
      },
      "text/plain": [
       "  0%|          | 0/4 [00:00<?, ?it/s]"
      ]
     },
     "metadata": {},
     "output_type": "display_data"
    },
    {
     "name": "stdout",
     "output_type": "stream",
     "text": [
      "+-----------------+---------------------+\n",
      "| heartDisease    |   phi(heartDisease) |\n",
      "+=================+=====================+\n",
      "| heartDisease(0) |              0.1972 |\n",
      "+-----------------+---------------------+\n",
      "| heartDisease(1) |              0.1970 |\n",
      "+-----------------+---------------------+\n",
      "| heartDisease(2) |              0.1976 |\n",
      "+-----------------+---------------------+\n",
      "| heartDisease(3) |              0.1976 |\n",
      "+-----------------+---------------------+\n",
      "| heartDisease(4) |              0.2106 |\n",
      "+-----------------+---------------------+\n",
      "\n",
      " 2.Probability of heartDisease given evidence= cp:2 \n"
     ]
    },
    {
     "data": {
      "application/vnd.jupyter.widget-view+json": {
       "model_id": "82d3afa2259745a2a5da009ca427f47d",
       "version_major": 2,
       "version_minor": 0
      },
      "text/plain": [
       "  0%|          | 0/4 [00:00<?, ?it/s]"
      ]
     },
     "metadata": {},
     "output_type": "display_data"
    },
    {
     "data": {
      "application/vnd.jupyter.widget-view+json": {
       "model_id": "7226a650a0a449b787060438edcffb3e",
       "version_major": 2,
       "version_minor": 0
      },
      "text/plain": [
       "  0%|          | 0/4 [00:00<?, ?it/s]"
      ]
     },
     "metadata": {},
     "output_type": "display_data"
    },
    {
     "name": "stdout",
     "output_type": "stream",
     "text": [
      "+-----------------+---------------------+\n",
      "| heartDisease    |   phi(heartDisease) |\n",
      "+=================+=====================+\n",
      "| heartDisease(0) |              0.3138 |\n",
      "+-----------------+---------------------+\n",
      "| heartDisease(1) |              0.2150 |\n",
      "+-----------------+---------------------+\n",
      "| heartDisease(2) |              0.1552 |\n",
      "+-----------------+---------------------+\n",
      "| heartDisease(3) |              0.1633 |\n",
      "+-----------------+---------------------+\n",
      "| heartDisease(4) |              0.1527 |\n",
      "+-----------------+---------------------+\n"
     ]
    }
   ],
   "source": [
    "import numpy as np\n",
    "import pandas as pd\n",
    "import csv \n",
    "import pgmpy\n",
    "from pgmpy.estimators import MaximumLikelihoodEstimator\n",
    "from pgmpy.models import BayesianModel\n",
    "from pgmpy.inference import VariableElimination\n",
    "\n",
    "#read Cleveland Heart Disease data\n",
    "heartDisease = pd.read_csv('data.csv')\n",
    "heartDisease = heartDisease.replace('?',np.nan)\n",
    "\n",
    "#display the data\n",
    "print('Sample instances from the dataset are given below')\n",
    "print(heartDisease.head())\n",
    "\n",
    "#display the Attributes names and datatypes\n",
    "print('\\n Attributes and datatypes')\n",
    "print(heartDisease.dtypes)\n",
    "\n",
    "#Create Model-Bayesian Network\n",
    "model =  BayesianModel([('age','heartDisease'),('sex','heartDisease'),('exang','heartDisease'),('cp','heartDisease'),('restecg','heartDisease'),('heartDisease','chol')])\n",
    "print(model)\n",
    "#Learning CPDs using Maximum Likelihood Estimators\n",
    "print('\\n Learning CPD using Maximum likelihood estimators')\n",
    "model.fit(heartDisease,estimator=MaximumLikelihoodEstimator)\n",
    "\n",
    "#Inferencing with Bayesian Network\n",
    "print('\\n Inferencing with Bayesian Network:')\n",
    "heartDiseasetest_infer = VariableElimination(model)\n",
    "\n",
    "#computing the Probability of heartDisease given restecg\n",
    "print('\\n 1.Probability of heartDisease given evidence= restecg :1')\n",
    "q1=heartDiseasetest_infer.query(variables=['heartDisease'],evidence={'restecg':1})\n",
    "print(q1)\n",
    "\n",
    "#computing the Probability of heartDisease given cp\n",
    "print('\\n 2.Probability of heartDisease given evidence= cp:2 ')\n",
    "q2=heartDiseasetest_infer.query(variables=['heartDisease'],evidence={'cp':2})\n",
    "print(q2)\n"
   ]
  },
  {
   "cell_type": "code",
   "execution_count": null,
   "id": "740d863e",
   "metadata": {},
   "outputs": [],
   "source": []
  }
 ],
 "metadata": {
  "kernelspec": {
   "display_name": "Python 3 (ipykernel)",
   "language": "python",
   "name": "python3"
  },
  "language_info": {
   "codemirror_mode": {
    "name": "ipython",
    "version": 3
   },
   "file_extension": ".py",
   "mimetype": "text/x-python",
   "name": "python",
   "nbconvert_exporter": "python",
   "pygments_lexer": "ipython3",
   "version": "3.9.13"
  }
 },
 "nbformat": 4,
 "nbformat_minor": 5
}
